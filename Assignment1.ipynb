{
  "nbformat": 4,
  "nbformat_minor": 0,
  "metadata": {
    "colab": {
      "name": "Assignment1.ipynb",
      "provenance": [],
      "collapsed_sections": [],
      "authorship_tag": "ABX9TyMkHiuJHzr40wY8HoGsSVX3",
      "include_colab_link": true
    },
    "kernelspec": {
      "name": "python3",
      "display_name": "Python 3"
    },
    "language_info": {
      "name": "python"
    }
  },
  "cells": [
    {
      "cell_type": "markdown",
      "metadata": {
        "id": "view-in-github",
        "colab_type": "text"
      },
      "source": [
        "<a href=\"https://colab.research.google.com/github/YoussefShabanKN/Machine-Learning-Training/blob/main/Assignment1.ipynb\" target=\"_parent\"><img src=\"https://colab.research.google.com/assets/colab-badge.svg\" alt=\"Open In Colab\"/></a>"
      ]
    },
    {
      "cell_type": "markdown",
      "metadata": {
        "id": "fUV5YaQ50A9Q"
      },
      "source": [
        "1. Areas of Rectangles\n",
        "The area of a rectangle is the rectangle’s length times its width. Write a program that asks\n",
        "\n",
        "for the length and width of two rectangles. The program should tell the user which rectan- gle has the greater area, or if the areas are the same."
      ]
    },
    {
      "cell_type": "code",
      "metadata": {
        "colab": {
          "base_uri": "https://localhost:8080/"
        },
        "id": "paAmu6Cnz08r",
        "outputId": "b7f6286c-d234-45b2-831c-e3b442458509"
      },
      "source": [
        "w1= int(input(\"Enter the width of the first rectangle...\"))\n",
        "h1= int(input(\"Enter the height of the first rectangle...\"))\n",
        "w2= int(input(\"Enter the width of the second rectangle...\"))\n",
        "h2= int(input(\"Enter the height of the second rectangle...\"))\n",
        "area1 = w1 *h1\n",
        "area2 = w2 *h2\n",
        "if area1 >area2:\n",
        "  print(\"the first rectangle is greater\")\n",
        "else:\n",
        "  print(\"the second rectangle is greater\")"
      ],
      "execution_count": null,
      "outputs": [
        {
          "output_type": "stream",
          "text": [
            "Enter the width of the first rectangle...10\n",
            "Enter the height of the first rectangle...20\n",
            "Enter the width of the second rectangle...20\n",
            "Enter the height of the second rectangle...30\n",
            "the second rectangle is greater\n"
          ],
          "name": "stdout"
        }
      ]
    },
    {
      "cell_type": "markdown",
      "metadata": {
        "id": "j09HjByw0NTv"
      },
      "source": [
        "2. Roulette Wheel Colors\n",
        "On a roulette wheel, the pockets are numbered from 0 to 36. The colors of the pockets are as follows:\n",
        "\n",
        "Pocket 0 is green.\n",
        "For pockets 1 through 10, the odd-numbered pockets are red and the even-numbered pockets are black.\n",
        "For pockets 11 through 18, the odd-numbered pockets are black and the even-numbered pockets are red.\n",
        "For pockets 19 through 28, the odd-numbered pockets are red and the even-numbered pockets are black.\n",
        "For pockets 29 through 36, the odd-numbered pockets are black and the even-numbered pockets are red. Write a program that asks the user to enter a pocket number and displays whether the pocket is green, red, or black. The program should display an error message if the user enters a number that is outside the range of 0 through 36.\n"
      ]
    },
    {
      "cell_type": "code",
      "metadata": {
        "id": "IRIo3GrA0XPW"
      },
      "source": [
        "user_input = int(input(\"Guess a number..\"))\n",
        "if user_input >= 0 and user_input<=36:\n",
        "  if user_input == 0:\n",
        "    print(\"green\")\n",
        "  elif user_input >=1 and user_input<=10:\n",
        "    if user_input%2 ==0:\n",
        "      print(\"black\")\n",
        "    else:\n",
        "      print(\"red\")\n",
        "  elif user_input >=11 and user_input<=18:\n",
        "    if user_input%2 ==0:\n",
        "      print(\"red\")\n",
        "    else:\n",
        "      print(\"black\")\n",
        "  elif user_input >=19 and user_input<=28:\n",
        "    if user_input%2 ==0:\n",
        "      print(\"black\")\n",
        "    else:\n",
        "      print(\"red\")\n",
        "  elif user_input >=29 and user_input<=36:\n",
        "    if user_input%2 ==0:\n",
        "      print(\"red\")\n",
        "    else:\n",
        "      print(\"black\")\n",
        "else:\n",
        "  print(\"Enter a number between 0 and 36\")"
      ],
      "execution_count": null,
      "outputs": []
    },
    {
      "cell_type": "markdown",
      "metadata": {
        "id": "AC99ppng0aln"
      },
      "source": [
        "3. Body Mass Index\n",
        "Write a program that calculates and displays a person’s body mass index (BMI). The BMI is often used to determine whether a person is overweight or underweight for his or her height. A person’s BMI is calculated with the following formula:\n",
        "**BMI=weight∗703/height2 **\n",
        "\n",
        "where weight is measured in pounds and height is measured in inches. The program should ask the user to enter his or her weight and height and then display the user’s BMI. The program should also display a message indicating whether the person has optimal weight, is underweight, or is overweight. A person’s weight is considered to be optimal if his or her BMI is between 18.5 and 25. If the BMI is less than 18.5, the person is con- sidered to be underweight. If the BMI value is greater than 25, the person is considered to be overweight."
      ]
    },
    {
      "cell_type": "code",
      "metadata": {
        "id": "vjNUoSzf0jH-"
      },
      "source": [
        "user_weight = int(input(\"Please enter your weight..\"))\n",
        "user_height = int(input(\"Please enter your height..\"))\n",
        "\n",
        "BMI = (user_weight * 703)/(user_height**2)\n",
        "print(\"YOUR BMI IS ..\",BMI)\n",
        "if BMI >18.5 and BMI <25:\n",
        "  print(\"YOU ARE IN GOOD SHAPE\")\n",
        "elif BMI<18.5:\n",
        "  print(\"YOU ARE UNDERWEIGHT u should eat alot\")\n",
        "elif BMI>25:\n",
        "  print(\"YOU ARE OVERWEIGHT u should lose some\")\n",
        "else:\n",
        "  print(\"GO SEE A DOCTOR\")"
      ],
      "execution_count": null,
      "outputs": []
    }
  ]
}